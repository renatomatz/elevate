{
 "cells": [
  {
   "cell_type": "code",
   "execution_count": 35,
   "metadata": {},
   "outputs": [],
   "source": [
    "import pandas as pd\n",
    "import os\n",
    "import math\n",
    "\n",
    "os.chdir(r'C:\\Users\\bibo9\\Google Drive\\Personal DB\\Projects\\Tech Jam 2019\\Repo\\Datasource')"
   ]
  },
  {
   "cell_type": "code",
   "execution_count": 2,
   "metadata": {},
   "outputs": [],
   "source": [
    "data = pd.read_csv('output_transaction.csv')"
   ]
  },
  {
   "cell_type": "code",
   "execution_count": 3,
   "metadata": {},
   "outputs": [
    {
     "data": {
      "text/plain": [
       "custId                   object\n",
       "locationLongitude       float64\n",
       "locationCountry          object\n",
       "merchantCategoryCode    float64\n",
       "description              object\n",
       "type                     object\n",
       "merchantName             object\n",
       "currencyAmount          float64\n",
       "locationRegion           object\n",
       "source                   object\n",
       "locationCity             object\n",
       "originationDateTime      object\n",
       "locationPostalCode       object\n",
       "customerId               object\n",
       "merchantId               object\n",
       "locationLatitude        float64\n",
       "id                       object\n",
       "locationStreet           object\n",
       "accountId                object\n",
       "categoryTags             object\n",
       "dtype: object"
      ]
     },
     "execution_count": 3,
     "metadata": {},
     "output_type": "execute_result"
    }
   ],
   "source": [
    "data.dtypes"
   ]
  },
  {
   "cell_type": "code",
   "execution_count": 6,
   "metadata": {},
   "outputs": [
    {
     "data": {
      "text/plain": [
       "categoryTags\n",
       "Auto and Transport      13541\n",
       "Bills and Utilities     12105\n",
       "Entertainment            4803\n",
       "Fees and Charges         1071\n",
       "Food and Dining        138574\n",
       "Health and Fitness       1817\n",
       "Home                     6621\n",
       "Income                  13404\n",
       "Mortgage and Rent         721\n",
       "Shopping                30638\n",
       "Shopping, Kids           2450\n",
       "Taxes                    1010\n",
       "Taxes, Income             344\n",
       "Transfer                29921\n",
       "Travel                     71\n",
       "dtype: int64"
      ]
     },
     "execution_count": 6,
     "metadata": {},
     "output_type": "execute_result"
    }
   ],
   "source": [
    "data.groupby([\"categoryTags\"]).size()"
   ]
  },
  {
   "cell_type": "code",
   "execution_count": 7,
   "metadata": {},
   "outputs": [
    {
     "data": {
      "text/html": [
       "<div>\n",
       "<style scoped>\n",
       "    .dataframe tbody tr th:only-of-type {\n",
       "        vertical-align: middle;\n",
       "    }\n",
       "\n",
       "    .dataframe tbody tr th {\n",
       "        vertical-align: top;\n",
       "    }\n",
       "\n",
       "    .dataframe thead th {\n",
       "        text-align: right;\n",
       "    }\n",
       "</style>\n",
       "<table border=\"1\" class=\"dataframe\">\n",
       "  <thead>\n",
       "    <tr style=\"text-align: right;\">\n",
       "      <th></th>\n",
       "      <th>sum</th>\n",
       "    </tr>\n",
       "    <tr>\n",
       "      <th>categoryTags</th>\n",
       "      <th></th>\n",
       "    </tr>\n",
       "  </thead>\n",
       "  <tbody>\n",
       "    <tr>\n",
       "      <th>Auto and Transport</th>\n",
       "      <td>$426,624.32</td>\n",
       "    </tr>\n",
       "    <tr>\n",
       "      <th>Bills and Utilities</th>\n",
       "      <td>$972,318.45</td>\n",
       "    </tr>\n",
       "    <tr>\n",
       "      <th>Entertainment</th>\n",
       "      <td>$327,838.74</td>\n",
       "    </tr>\n",
       "    <tr>\n",
       "      <th>Fees and Charges</th>\n",
       "      <td>$10,175.64</td>\n",
       "    </tr>\n",
       "    <tr>\n",
       "      <th>Food and Dining</th>\n",
       "      <td>$2,447,318.82</td>\n",
       "    </tr>\n",
       "    <tr>\n",
       "      <th>Health and Fitness</th>\n",
       "      <td>$58,931.31</td>\n",
       "    </tr>\n",
       "    <tr>\n",
       "      <th>Home</th>\n",
       "      <td>$401,434.82</td>\n",
       "    </tr>\n",
       "    <tr>\n",
       "      <th>Income</th>\n",
       "      <td>$21,549,047.27</td>\n",
       "    </tr>\n",
       "    <tr>\n",
       "      <th>Mortgage and Rent</th>\n",
       "      <td>$1,023,204.00</td>\n",
       "    </tr>\n",
       "    <tr>\n",
       "      <th>Shopping</th>\n",
       "      <td>$1,184,839.08</td>\n",
       "    </tr>\n",
       "    <tr>\n",
       "      <th>Shopping, Kids</th>\n",
       "      <td>$359,471.62</td>\n",
       "    </tr>\n",
       "    <tr>\n",
       "      <th>Taxes</th>\n",
       "      <td>$1,047,071.16</td>\n",
       "    </tr>\n",
       "    <tr>\n",
       "      <th>Taxes, Income</th>\n",
       "      <td>$2,802,647.41</td>\n",
       "    </tr>\n",
       "    <tr>\n",
       "      <th>Transfer</th>\n",
       "      <td>$21,017,949.35</td>\n",
       "    </tr>\n",
       "    <tr>\n",
       "      <th>Travel</th>\n",
       "      <td>$47,382.11</td>\n",
       "    </tr>\n",
       "  </tbody>\n",
       "</table>\n",
       "</div>"
      ],
      "text/plain": [
       "                               sum\n",
       "categoryTags                      \n",
       "Auto and Transport     $426,624.32\n",
       "Bills and Utilities    $972,318.45\n",
       "Entertainment          $327,838.74\n",
       "Fees and Charges        $10,175.64\n",
       "Food and Dining      $2,447,318.82\n",
       "Health and Fitness      $58,931.31\n",
       "Home                   $401,434.82\n",
       "Income              $21,549,047.27\n",
       "Mortgage and Rent    $1,023,204.00\n",
       "Shopping             $1,184,839.08\n",
       "Shopping, Kids         $359,471.62\n",
       "Taxes                $1,047,071.16\n",
       "Taxes, Income        $2,802,647.41\n",
       "Transfer            $21,017,949.35\n",
       "Travel                  $47,382.11"
      ]
     },
     "execution_count": 7,
     "metadata": {},
     "output_type": "execute_result"
    }
   ],
   "source": [
    "pd.options.display.float_format = '${:,.2f}'.format\n",
    "data.assign(AbsAmount=data.currencyAmount.abs()).groupby([\"categoryTags\"])['AbsAmount'].agg(['sum'])"
   ]
  },
  {
   "cell_type": "code",
   "execution_count": 13,
   "metadata": {},
   "outputs": [],
   "source": [
    "data1 = data.drop(data[(data.categoryTags == \"Taxes\")\n",
    " | (data.categoryTags == \"Taxes, Income\")\n",
    " | (data.categoryTags == \"Transfer\")\n",
    " | (data.categoryTags == \"Income\")\n",
    " | (data.categoryTags == \"Bills and Utilities\")\n",
    " | (data.categoryTags == \"Mortgage and Rent\")].index)"
   ]
  },
  {
   "cell_type": "code",
   "execution_count": 20,
   "metadata": {},
   "outputs": [
    {
     "data": {
      "text/plain": [
       "'2019-04-02T00:00:00.001Z'"
      ]
     },
     "execution_count": 20,
     "metadata": {},
     "output_type": "execute_result"
    }
   ],
   "source": [
    "data1.originationDateTime.min()"
   ]
  },
  {
   "cell_type": "code",
   "execution_count": 21,
   "metadata": {},
   "outputs": [
    {
     "data": {
      "text/plain": [
       "'2019-10-23T19:57:00Z'"
      ]
     },
     "execution_count": 21,
     "metadata": {},
     "output_type": "execute_result"
    }
   ],
   "source": [
    "data1.originationDateTime.max()"
   ]
  },
  {
   "cell_type": "code",
   "execution_count": 62,
   "metadata": {},
   "outputs": [],
   "source": [
    "masks = []\n",
    "masks.append((data1['originationDateTime'] > '2019-04-02') & (data1['originationDateTime'] <= '2019-05-02'))\n",
    "masks.append((data1['originationDateTime'] > '2019-04-02') & (data1['originationDateTime'] <= '2019-06-02'))\n",
    "masks.append((data1['originationDateTime'] > '2019-04-02') & (data1['originationDateTime'] <= '2019-07-02'))\n",
    "masks.append((data1['originationDateTime'] > '2019-04-02') & (data1['originationDateTime'] <= '2019-08-02'))\n",
    "masks.append((data1['originationDateTime'] > '2019-04-02') & (data1['originationDateTime'] <= '2019-09-02'))\n",
    "masks.append((data1['originationDateTime'] > '2019-04-02') & (data1['originationDateTime'] <= '2019-10-02'))"
   ]
  },
  {
   "cell_type": "code",
   "execution_count": 63,
   "metadata": {},
   "outputs": [],
   "source": [
    "output = []\n",
    "for mask in masks:\n",
    "    list_of_cust = data1.loc[mask].T.to_dict().values()\n",
    "    cnt = 0\n",
    "    num = 0\n",
    "    for item in list_of_cust:\n",
    "        num += math.ceil(math.fabs(item[\"currencyAmount\"])) - math.fabs(item[\"currencyAmount\"])\n",
    "    avgnum = num / data2['custId'].nunique()\n",
    "    output.append(avgnum)"
   ]
  },
  {
   "cell_type": "code",
   "execution_count": 64,
   "metadata": {},
   "outputs": [
    {
     "name": "stdout",
     "output_type": "stream",
     "text": [
      "[12.51304230219175, 26.727920863585652, 39.03283086358617, 52.841043614328626, 66.55871361432825, 78.99807791868288]\n"
     ]
    }
   ],
   "source": [
    "print(output)"
   ]
  },
  {
   "cell_type": "code",
   "execution_count": null,
   "metadata": {},
   "outputs": [],
   "source": []
  }
 ],
 "metadata": {
  "kernelspec": {
   "display_name": "Python 3",
   "language": "python",
   "name": "python3"
  },
  "language_info": {
   "codemirror_mode": {
    "name": "ipython",
    "version": 3
   },
   "file_extension": ".py",
   "mimetype": "text/x-python",
   "name": "python",
   "nbconvert_exporter": "python",
   "pygments_lexer": "ipython3",
   "version": "3.7.3"
  }
 },
 "nbformat": 4,
 "nbformat_minor": 4
}
